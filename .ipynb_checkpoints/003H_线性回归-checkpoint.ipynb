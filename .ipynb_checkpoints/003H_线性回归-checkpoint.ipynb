{
 "cells": [
  {
   "cell_type": "markdown",
   "id": "organized-diameter",
   "metadata": {},
   "source": [
    "# 线性模型"
   ]
  },
  {
   "cell_type": "markdown",
   "id": "fitted-innocent",
   "metadata": {},
   "source": [
    "## Scikit-Learn中的线性回归"
   ]
  },
  {
   "cell_type": "code",
   "execution_count": 1,
   "id": "changed-throw",
   "metadata": {},
   "outputs": [
    {
     "data": {
      "image/png": "[encoded data removed]",
      "text/plain": [
       "<Figure size 432x288 with 1 Axes>"
      ]
     },
     "metadata": {
      "needs_background": "light"
     },
     "output_type": "display_data"
    }
   ],
   "source": [
    "from sklearn.linear_model import LinearRegression\n",
    "import numpy as np\n",
    "import matplotlib as mpl\n",
    "import matplotlib.pyplot as plt\n",
    "\n",
    "#创建数据集\n",
    "X=2*np.random.rand(10,1)#100行1列的随机初始化向量\n",
    "y=4+3*X+np.random.randn(10,1)\n",
    "#创建模型实例\n",
    "lin_reg=LinearRegression()\n",
    "lin_reg.fit(X,y)\n",
    "plt.plot(X,y,\"b.\")\n",
    "#使用模型\n",
    "x_new=[[0],[2]]\n",
    "y_predict=lin_reg.predict(x_new)\n",
    "plt.plot(x_new,y_predict,\"r-\")\n",
    "plt.axis([0,2,0,15])\n",
    "plt.show()"
   ]
  },
  {
   "cell_type": "markdown",
   "id": "criminal-delay",
   "metadata": {},
   "source": [
    "## LinearRegression类基于scipy.linalg.lstsq()函数(最小二乘法)"
   ]
  },
  {
   "cell_type": "code",
   "execution_count": 249,
   "id": "filled-scientist",
   "metadata": {},
   "outputs": [
    {
     "name": "stdout",
     "output_type": "stream",
     "text": [
      "(array([[6.82925583]]), array([36.98198935]), 1, array([2.52668316]))\n"
     ]
    }
   ],
   "source": [
    "import numpy as np\n",
    "#创建数据集\n",
    "X=2*np.random.rand(10,1)#100行1列的随机初始化向量\n",
    "y=4+3*X+np.random.randn(10,1)\n",
    "data= np.linalg.lstsq(X, y, rcond=1e-6)\n",
    "print(data)\n",
    "#theta_best_svd, residuals, rank, s"
   ]
  },
  {
   "cell_type": "markdown",
   "id": "usual-saskatchewan",
   "metadata": {},
   "source": [
    "## 计算伪逆(Moore-Penrose逆)"
   ]
  },
  {
   "cell_type": "code",
   "execution_count": 250,
   "id": "engaging-fellowship",
   "metadata": {},
   "outputs": [
    {
     "name": "stdout",
     "output_type": "stream",
     "text": [
      "[[0.11593223 0.01872549 0.05903186 0.05452476 0.03864185 0.06549638\n",
      "  0.00770019 0.13519962 0.2051157  0.13156766]]\n"
     ]
    }
   ],
   "source": [
    "X=2*np.random.rand(10,1)\n",
    "print(np.linalg.pinv(X))"
   ]
  },
  {
   "cell_type": "markdown",
   "id": "corrected-static",
   "metadata": {},
   "source": [
    "## 梯度下降"
   ]
  },
  {
   "cell_type": "markdown",
   "id": "smooth-bride",
   "metadata": {},
   "source": [
    "NumPy中使用梯度下降"
   ]
  },
  {
   "cell_type": "code",
   "execution_count": 251,
   "id": "south-mailman",
   "metadata": {},
   "outputs": [
    {
     "name": "stdout",
     "output_type": "stream",
     "text": [
      "[1.         1.40424189]\n",
      "[[3.89909178]\n",
      " [2.89763037]]\n"
     ]
    }
   ],
   "source": [
    "import numpy as np\n",
    "#data\n",
    "X=np.random.randn(100,1)\n",
    "X_b = np.c_[np.ones((100, 1)), X]  # add x0 = 1 to each instance\n",
    "print(X_b[0])\n",
    "y=4+3*X+np.random.randn(100,1)\n",
    "eta=0.1 #learning rate\n",
    "n_iterations=1000\n",
    "m=100\n",
    "theta=np.random.randn(2,1) #random initialization\n",
    "for iteration in range(n_iterations):\n",
    "    gradients=2/m*X_b.T.dot(X_b.dot(theta)-y)\n",
    "    theta=theta-eta*gradients\n",
    "print(theta)"
   ]
  },
  {
   "cell_type": "markdown",
   "id": "three-reset",
   "metadata": {},
   "source": [
    "## 随机梯度下降(SGD)  Stochastic gradient descent"
   ]
  },
  {
   "cell_type": "markdown",
   "id": "olympic-mistake",
   "metadata": {},
   "source": [
    "随机梯度下降的主要问题是它要用整个训练集来计算每一步的梯度，当训练集很大时\n",
    "算法会很慢。与之相反的极端是随机梯度下降，每一步在训练集中随机选择一个实例，\n",
    "并且仅基于该单个实例来计算梯度。   \n",
    "随机性的好处在于可以逃离局部最优，但缺点是永远定位不出最小值。要解决这个困境\n",
    "有一个好办法就是逐步降低学习率，开始的步长比较大，然后越来越小，让算法尽量靠  \n",
    "近全局最小值。这个过程叫做模拟退火 \n"
   ]
  },
  {
   "cell_type": "code",
   "execution_count": 252,
   "id": "least-seattle",
   "metadata": {},
   "outputs": [],
   "source": [
    "import numpy as np \n",
    "import matplotlib.pyplot as plt\n",
    "np.random.seed(42)"
   ]
  },
  {
   "cell_type": "code",
   "execution_count": 253,
   "id": "satisfied-performance",
   "metadata": {},
   "outputs": [
    {
     "name": "stdout",
     "output_type": "stream",
     "text": [
      "theta=[[4.00052446]\n",
      " [2.88286796]]\n"
     ]
    },
    {
     "data": {
      "image/png": "[encoded data removed]",
      "text/plain": [
       "<Figure size 432x288 with 1 Axes>"
      ]
     },
     "metadata": {
      "needs_background": "light"
     },
     "output_type": "display_data"
    }
   ],
   "source": [
    "theta_path_sgd = []#记录中间迭代的过程\n",
    "#data\n",
    "X=np.random.randn(100,1)\n",
    "X_b = np.c_[np.ones((100, 1)), X]  # add x0 = 1 to each instance\n",
    "y=4+3*X+np.random.randn(100,1)\n",
    "n_epochs=50\n",
    "m=len(X_b)\n",
    "t0,t1=5,50 # learning schedule hyperparameters(学习进度超参数)\n",
    "def learning_schedule(t):\n",
    "    return t0/(t+t1)\n",
    "theta=np.random.randn(2,1) #random initialization\n",
    "for epoch in range(n_epochs):\n",
    "    for i in range(m):#每次进行m个回合的迭代，每个回和称为一个轮次\n",
    "        random_index=np.random.randint(m)\n",
    "        xi=X_b[random_index:random_index+1]\n",
    "        yi=y[random_index:random_index+1]\n",
    "        gradients=2*xi.T.dot(xi.dot(theta)-yi)\n",
    "        eta=learning_schedule(epoch*m+i)\n",
    "        theta=theta-eta*gradients\n",
    "        theta_path_sgd.append(theta)\n",
    "print(f\"theta={theta}\")\n",
    "plt.xlabel(\"$x_1$\", fontsize=18)                     # not shown\n",
    "plt.ylabel(\"y\", rotation=0, fontsize=18)           # not shown\n",
    "plt.axis([0, 2, 0, 15])\n",
    "\n",
    "#画出迭代过程\n",
    "for i in range(len(theta_path_sgd)):\n",
    "    x_draw=[[0],[2]]\n",
    "    y_draw=[[theta_path_sgd[i][0][0]],[2*theta_path_sgd[i][1][0]+theta_path_sgd[i][0][0]]]\n",
    "    plt.plot(x_draw,y_draw,\"r-\")\n",
    "    if(i>50):#只画出前50次\n",
    "        break\n",
    "plt.plot(X,y,\"b.\")\n",
    "plt.show()"
   ]
  },
  {
   "cell_type": "markdown",
   "id": "divine-novelty",
   "metadata": {},
   "source": [
    "## Scikit-Learn的随机梯度下降"
   ]
  },
  {
   "cell_type": "markdown",
   "id": "sublime-injury",
   "metadata": {},
   "source": [
    "Scikit-Leearn的随机梯度下降执行线性回归，可以使用SGDRegressor类\n",
    ",该类默认优化平方误差成本函数  \n",
    "代码最多可运行1000个轮次，或者直到一个轮次期间\n",
    "损失下降小于0.001为止（max_iter=1000，tol=1e-3）。它使用默认的学习调度（与前一个\n",
    "学习调度不同）以0.1（eta0=0.1）的学习率开始。最后，它不使用任何正则化\n",
    "（penalty=None，稍后将对此进行详细介绍）："
   ]
  },
  {
   "cell_type": "code",
   "execution_count": 254,
   "id": "meaningful-scanning",
   "metadata": {},
   "outputs": [
    {
     "name": "stdout",
     "output_type": "stream",
     "text": [
      "[4.18111695]\n",
      "[3.17350694]\n"
     ]
    },
    {
     "data": {
      "image/png": "[encoded data removed]",
      "text/plain": [
       "<Figure size 432x288 with 1 Axes>"
      ]
     },
     "metadata": {
      "needs_background": "light"
     },
     "output_type": "display_data"
    }
   ],
   "source": [
    "from sklearn.linear_model import SGDRegressor\n",
    "import numpy as np \n",
    "import matplotlib.pyplot as plt\n",
    "X=np.random.randn(100,1)\n",
    "y=4+3*X+np.random.randn(100,1)\n",
    "sgd_reg=SGDRegressor(max_iter=1000,tol=1e-3,penalty=None,eta0=0.1)\n",
    "sgd_reg.fit(X,y.ravel())#.ravel()将多维数组转为一维\n",
    "print(sgd_reg.intercept_)#intercept（截距）\n",
    "print(sgd_reg.coef_) #系数（斜率）\n",
    "plt.plot(X,y,\"b.\")\n",
    "x_draw=[[0],[2]]\n",
    "y_draw=[[sgd_reg.intercept_[0]],[2*sgd_reg.coef_[0]+sgd_reg.intercept_[0]]]\n",
    "plt.plot(x_draw,y_draw,\"r-\")\n",
    "#plt.axis([0, 2, 0, 15])#坐标系显示范围\n",
    "plt.show()"
   ]
  },
  {
   "cell_type": "markdown",
   "id": "international-poultry",
   "metadata": {},
   "source": [
    "## 小批量梯度下降"
   ]
  },
  {
   "cell_type": "markdown",
   "id": "solid-aging",
   "metadata": {},
   "source": [
    "普通的梯度下降是使用全部训练集求梯度，随机梯度下降是随机选一个实例，\n",
    "小批量梯度下降是在随机梯度下降的基础上每次随机选一小部分实例求梯度"
   ]
  },
  {
   "cell_type": "markdown",
   "id": "classical-corruption",
   "metadata": {},
   "source": [
    "## 多项式回归"
   ]
  },
  {
   "cell_type": "markdown",
   "id": "entire-maine",
   "metadata": {},
   "source": [
    "使用线性模型来拟合非线性数据，在非线性方程特征集上训练一个线性模型，这种技术称为多项式回归。\n"
   ]
  },
  {
   "cell_type": "code",
   "execution_count": 255,
   "id": "included-insertion",
   "metadata": {},
   "outputs": [],
   "source": [
    "import numpy as np \n",
    "import matplotlib.pyplot as plt\n",
    "np.random.seed(42)"
   ]
  },
  {
   "cell_type": "code",
   "execution_count": 256,
   "id": "young-refrigerator",
   "metadata": {},
   "outputs": [
    {
     "data": {
      "image/png": "[encoded data removed]",
      "text/plain": [
       "<Figure size 432x288 with 1 Axes>"
      ]
     },
     "metadata": {
      "needs_background": "light"
     },
     "output_type": "display_data"
    }
   ],
   "source": [
    "#data\n",
    "m=100\n",
    "X=6*np.random.rand(m,1)-3\n",
    "y=0.7*X**2+X+3.6+np.random.randn(m,1)\n",
    "plt.plot(X,y,\"b.\")#画出生成的非线性和噪声数据集\n",
    "plt.show()"
   ]
  },
  {
   "cell_type": "markdown",
   "id": "loose-modem",
   "metadata": {},
   "source": [
    "当存在多个特征时，多项式回归能够找到特征之间的关系（这是普通线性回归模型无法做到的）。PolynomialFeatures还可以将特征的所有组合添加到给定的多项式阶数。例如，如果有两个特征a和b，则degree=3的PolynomialFeatures不仅会添加特征a^2、a^3、b^2和b^3，还会添加组合ab、a^2b和ab^2  \n",
    "PolynomialFeatures（degree=d）可以将一个包含n个特征的数组转换为包含 阶乘(n+d)/(阶乘d * 阶乘 n) 个特征的数组"
   ]
  },
  {
   "cell_type": "code",
   "execution_count": 257,
   "id": "hidden-titanium",
   "metadata": {},
   "outputs": [
    {
     "name": "stdout",
     "output_type": "stream",
     "text": [
      "[3.38134581] [[0.93366893 0.76456263]]\n"
     ]
    },
    {
     "data": {
      "image/png": "[encoded data removed]",
      "text/plain": [
       "<Figure size 432x288 with 1 Axes>"
      ]
     },
     "metadata": {
      "needs_background": "light"
     },
     "output_type": "display_data"
    }
   ],
   "source": [
    "from sklearn.preprocessing import PolynomialFeatures# Polynomial Features（多项式特征）\n",
    "from sklearn.linear_model import LinearRegression #线性回归\n",
    "poly_features=PolynomialFeatures(degree=2,include_bias=False)\n",
    "X_poly=poly_features.fit_transform(X)#多项式特征\n",
    "#使用线性模型\n",
    "lin_reg=LinearRegression()\n",
    "lin_reg.fit(X_poly,y)\n",
    "print(lin_reg.intercept_,lin_reg.coef_)\n",
    "#[2.14407795] [[0.8758063  0.48173944]] y=0.48*x**2+0.87*x+2.14\n",
    "\n",
    "#画出拟合的曲线\n",
    "x_draw=[]\n",
    "y_draw=[]\n",
    "x=-100\n",
    "while x<=100:\n",
    "    x_draw.append(x)\n",
    "    y_=lin_reg.coef_[0][1]*x**2+lin_reg.coef_[0][0]*x+lin_reg.intercept_[0]\n",
    "    y_draw.append(y_)\n",
    "    x=x+0.1\n",
    "plt.plot(x_draw,y_draw)\n",
    "plt.show()"
   ]
  },
  {
   "cell_type": "markdown",
   "id": "collaborative-africa",
   "metadata": {},
   "source": [
    "## 学习曲线"
   ]
  },
  {
   "cell_type": "markdown",
   "id": "median-surveillance",
   "metadata": {},
   "source": [
    "如果模型在训练数据上表现良好，但根据交叉验证的指标泛化较差，则你的模型过拟合。如果两者的表现均不理想，则说明欠拟合"
   ]
  },
  {
   "cell_type": "markdown",
   "id": "linear-batman",
   "metadata": {},
   "source": [
    "* 均方误差 mean squared error\n",
    "* 训练测试分 train_test_split"
   ]
  },
  {
   "cell_type": "code",
   "execution_count": 258,
   "id": "trying-option",
   "metadata": {
    "scrolled": true
   },
   "outputs": [
    {
     "data": {
      "image/png": "[encoded data removed]",
      "text/plain": [
       "<Figure size 432x288 with 1 Axes>"
      ]
     },
     "metadata": {
      "needs_background": "light"
     },
     "output_type": "display_data"
    }
   ],
   "source": [
    "from sklearn.metrics import mean_squared_error\n",
    "from sklearn.model_selection import train_test_split\n",
    "import numpy as np \n",
    "import matplotlib.pyplot as plt\n",
    "from sklearn.linear_model import LinearRegression #线性回归\n",
    "\n",
    "X=np.random.randn(100,1)\n",
    "y=4+3*X+np.random.randn(100,1)\n",
    "#learning_curves 学习曲线\n",
    "def plot_learning_curves(model,X,y):\n",
    "    X_train,X_val,y_train,y_val=train_test_split(X,y,test_size=0.2)\n",
    "    train_errors,val_errors=[],[]\n",
    "    #使用交叉验证\n",
    "    for m in range(1,len(X_train)):#从使用两个数据开始拟合\n",
    "        model.fit(X_train[:m],y_train[:m])#使用前m个训练集\n",
    "        y_train_predict=model.predict(X_train[:m])#得出前m个训练集y的预测值\n",
    "        y_val_predict=model.predict(X_val)#获得验证集预测值\n",
    "        train_errors.append(mean_squared_error(y_train[:m],y_train_predict))\n",
    "        #使用mean_squared_error获得训练集预测值均方误差\n",
    "        val_errors.append(mean_squared_error(y_val,y_val_predict))\n",
    "        #使用mean_squared_error获得验证集预测值均方误差\n",
    "    plt.plot(np.sqrt(train_errors), \"r-+\", linewidth=2, label=\"train\")\n",
    "    plt.plot(np.sqrt(val_errors), \"b-\", linewidth=3, label=\"val\")\n",
    "    plt.legend(loc=\"upper right\", fontsize=14)   # 曲线标注\n",
    "    plt.xlabel(\"Training set size\", fontsize=14) # x轴标签\n",
    "    plt.ylabel(\"RMSE\", fontsize=14)              # y轴标签\n",
    "    plt.axis([0, 80, 0, 3])\n",
    "    plt.show()\n",
    "#线性回归模型实例\n",
    "lin_reg=LinearRegression()\n",
    "#调用学习曲线函数\n",
    "plot_learning_curves(lin_reg,X,y)"
   ]
  },
  {
   "cell_type": "markdown",
   "id": "practical-minister",
   "metadata": {},
   "source": [
    "这种情况属于欠拟合，模型损失较高，且训练集曲线与验证集曲线中间的距离较近，使用更多的数据集训练也是无济于事，\n"
   ]
  },
  {
   "cell_type": "markdown",
   "id": "cheap-centre",
   "metadata": {},
   "source": [
    "`在相同数据上的10阶多项式模型的学习曲线`\n",
    "\n"
   ]
  },
  {
   "cell_type": "code",
   "execution_count": 259,
   "id": "worth-casino",
   "metadata": {},
   "outputs": [
    {
     "data": {
      "image/png": "[encoded data removed]",
      "text/plain": [
       "<Figure size 432x288 with 1 Axes>"
      ]
     },
     "metadata": {
      "needs_background": "light"
     },
     "output_type": "display_data"
    }
   ],
   "source": [
    "from sklearn.pipeline import Pipeline\n",
    "from sklearn.preprocessing import PolynomialFeatures# Polynomial Features（多项式特征）\n",
    "#定义流水线\n",
    "polynomial_regression=Pipeline([\n",
    "    (\"poly_features\",PolynomialFeatures(degree=10,include_bias=False)),#多项式特征\n",
    "    (\"lin_reg\",LinearRegression())#线性模型\n",
    "])\n",
    "plot_learning_curves(polynomial_regression,X,y)"
   ]
  },
  {
   "cell_type": "markdown",
   "id": "abroad-stroke",
   "metadata": {},
   "source": [
    "曲线之间存在间隙。这意味着该模型在训练数据上的性能要比在验证数据上的性能\n",
    "好得多，这是过拟合模型的标志。但是，如果你使用更大的训练集，则两条曲线会继续接\n",
    "近"
   ]
  },
  {
   "cell_type": "markdown",
   "id": "enabling-treaty",
   "metadata": {},
   "source": [
    "## 正则化线性模型"
   ]
  },
  {
   "cell_type": "markdown",
   "id": "described-present",
   "metadata": {},
   "source": [
    "### 岭回归 Ridge 闭解式求解"
   ]
  },
  {
   "cell_type": "code",
   "execution_count": 260,
   "id": "micro-launch",
   "metadata": {},
   "outputs": [
    {
     "name": "stdout",
     "output_type": "stream",
     "text": [
      "[[8.47252927]]\n"
     ]
    }
   ],
   "source": [
    "\n",
    "from sklearn.linear_model import Ridge\n",
    "#创建岭回归实例\n",
    "ridge_reg=Ridge(alpha=1, solver=\"cholesky\", random_state=42)\n",
    "ridge_reg.fit(X,y)\n",
    "print(ridge_reg.predict([[1.5]]))"
   ]
  },
  {
   "cell_type": "markdown",
   "id": "canadian-reach",
   "metadata": {},
   "source": [
    "### 岭回归 Ridge 随机梯度下降"
   ]
  },
  {
   "cell_type": "code",
   "execution_count": 261,
   "id": "accessible-wagner",
   "metadata": {},
   "outputs": [
    {
     "data": {
      "text/plain": [
       "array([8.46533721])"
      ]
     },
     "execution_count": 261,
     "metadata": {},
     "output_type": "execute_result"
    }
   ],
   "source": [
    "from sklearn.linear_model import SGDRegressor\n",
    "sgd_reg = SGDRegressor(penalty=\"l2\", max_iter=1000, tol=1e-3, random_state=42)\n",
    "sgd_reg.fit(X, y.ravel())\n",
    "sgd_reg.predict([[1.5]])"
   ]
  },
  {
   "cell_type": "markdown",
   "id": "forty-perry",
   "metadata": {},
   "source": [
    "超参数penalty设置的是使用正则项的类型。设为\"l2\"表示希望SGD在成本函数中添加\n",
    "一个正则项，等于权重向量的 2范数的平方的一半，即岭回归。"
   ]
  },
  {
   "cell_type": "markdown",
   "id": "printable-vanilla",
   "metadata": {},
   "source": [
    "### Lasso回归"
   ]
  },
  {
   "cell_type": "code",
   "execution_count": 262,
   "id": "billion-builder",
   "metadata": {},
   "outputs": [
    {
     "data": {
      "text/plain": [
       "array([8.38543845])"
      ]
     },
     "execution_count": 262,
     "metadata": {},
     "output_type": "execute_result"
    }
   ],
   "source": [
    "from sklearn.linear_model import Lasso\n",
    "lasso_reg = Lasso(alpha=0.1)\n",
    "lasso_reg.fit(X, y)\n",
    "lasso_reg.predict([[1.5]])"
   ]
  }
 ],
 "metadata": {
  "kernelspec": {
   "display_name": "Python 3",
   "language": "python",
   "name": "python3"
  },
  "language_info": {
   "codemirror_mode": {
    "name": "ipython",
    "version": 3
   },
   "file_extension": ".py",
   "mimetype": "text/x-python",
   "name": "python",
   "nbconvert_exporter": "python",
   "pygments_lexer": "ipython3",
   "version": "3.8.5"
  }
 },
 "nbformat": 4,
 "nbformat_minor": 5
}
